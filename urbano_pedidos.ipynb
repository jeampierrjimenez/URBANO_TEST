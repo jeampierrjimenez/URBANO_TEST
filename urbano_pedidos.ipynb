{
 "cells": [
  {
   "cell_type": "code",
   "execution_count": 1,
   "id": "87b9a891-a28d-421c-8cd7-ed681611fe1b",
   "metadata": {},
   "outputs": [],
   "source": [
    "import numpy as np\n",
    "import pandas as pd\n",
    "import matplotlib.pyplot as plt"
   ]
  },
  {
   "cell_type": "code",
   "execution_count": 2,
   "id": "c11f0036-1595-495d-9ac6-4cb3e40f750b",
   "metadata": {},
   "outputs": [],
   "source": [
    "data = pd.read_excel(\"PRUEBA EXCEL NIVEL INTERMEDIO.xlsx\", sheet_name = \"Data\")"
   ]
  },
  {
   "cell_type": "code",
   "execution_count": 3,
   "id": "ab287353-c15e-4585-bc53-2282e1fad920",
   "metadata": {},
   "outputs": [
    {
     "data": {
      "text/html": [
       "<div>\n",
       "<style scoped>\n",
       "    .dataframe tbody tr th:only-of-type {\n",
       "        vertical-align: middle;\n",
       "    }\n",
       "\n",
       "    .dataframe tbody tr th {\n",
       "        vertical-align: top;\n",
       "    }\n",
       "\n",
       "    .dataframe thead th {\n",
       "        text-align: right;\n",
       "    }\n",
       "</style>\n",
       "<table border=\"1\" class=\"dataframe\">\n",
       "  <thead>\n",
       "    <tr style=\"text-align: right;\">\n",
       "      <th></th>\n",
       "      <th>GUIA</th>\n",
       "      <th>SHIPPER</th>\n",
       "      <th>ORIGEN</th>\n",
       "      <th>DPTO ORIGEN</th>\n",
       "      <th>PROV ORIGEN</th>\n",
       "      <th>DISTRITO ORIGEN</th>\n",
       "      <th>FECHA</th>\n",
       "      <th>ARRIBO DESTINO</th>\n",
       "      <th>DESTINO</th>\n",
       "      <th>ESTADO ACTUAL</th>\n",
       "      <th>NRO VISITAS</th>\n",
       "      <th>PRIMERA VISITA</th>\n",
       "      <th>RESULTADO VISITA 1</th>\n",
       "      <th>DISTRITO</th>\n",
       "      <th>PROVINCIA</th>\n",
       "      <th>DEPARTAMENTO</th>\n",
       "      <th>TIPO ZONA</th>\n",
       "      <th>PIEZAS</th>\n",
       "      <th>ANS ENTREGA</th>\n",
       "      <th>DIAS DEMORA</th>\n",
       "    </tr>\n",
       "  </thead>\n",
       "  <tbody>\n",
       "    <tr>\n",
       "      <th>0</th>\n",
       "      <td>1</td>\n",
       "      <td>urbano</td>\n",
       "      <td>HYO</td>\n",
       "      <td>JUNIN</td>\n",
       "      <td>HUANCAYO</td>\n",
       "      <td>HUANCAYO</td>\n",
       "      <td>2024-02-01</td>\n",
       "      <td>2024-02-05</td>\n",
       "      <td>CNT</td>\n",
       "      <td>ENTREGADO</td>\n",
       "      <td>1</td>\n",
       "      <td>2024-02-05</td>\n",
       "      <td>ENTREGADO</td>\n",
       "      <td>SAN VICENTE DE CAÑETE</td>\n",
       "      <td>CAÑETE</td>\n",
       "      <td>LIMA</td>\n",
       "      <td>Urbana</td>\n",
       "      <td>1.0</td>\n",
       "      <td>ON TIME</td>\n",
       "      <td>-2.0</td>\n",
       "    </tr>\n",
       "    <tr>\n",
       "      <th>1</th>\n",
       "      <td>2</td>\n",
       "      <td>urbano</td>\n",
       "      <td>HYO</td>\n",
       "      <td>JUNIN</td>\n",
       "      <td>HUANCAYO</td>\n",
       "      <td>HUANCAYO</td>\n",
       "      <td>2024-02-06</td>\n",
       "      <td>2024-02-10</td>\n",
       "      <td>TRU</td>\n",
       "      <td>ENTREGADO</td>\n",
       "      <td>1</td>\n",
       "      <td>2024-02-10</td>\n",
       "      <td>ENTREGADO</td>\n",
       "      <td>LA ESPERANZA</td>\n",
       "      <td>TRUJILLO</td>\n",
       "      <td>LA LIBERTAD</td>\n",
       "      <td>Urbana</td>\n",
       "      <td>1.0</td>\n",
       "      <td>ON TIME</td>\n",
       "      <td>-2.0</td>\n",
       "    </tr>\n",
       "    <tr>\n",
       "      <th>2</th>\n",
       "      <td>3</td>\n",
       "      <td>urbano</td>\n",
       "      <td>PIU</td>\n",
       "      <td>PIURA</td>\n",
       "      <td>PIURA</td>\n",
       "      <td>PIURA</td>\n",
       "      <td>2024-02-07</td>\n",
       "      <td>2024-02-15</td>\n",
       "      <td>PIS</td>\n",
       "      <td>ENTREGADO</td>\n",
       "      <td>1</td>\n",
       "      <td>2024-02-16</td>\n",
       "      <td>ENTREGADO</td>\n",
       "      <td>PARACAS</td>\n",
       "      <td>PISCO</td>\n",
       "      <td>ICA</td>\n",
       "      <td>Periferico</td>\n",
       "      <td>1.0</td>\n",
       "      <td>OFF TIME</td>\n",
       "      <td>3.0</td>\n",
       "    </tr>\n",
       "    <tr>\n",
       "      <th>3</th>\n",
       "      <td>4</td>\n",
       "      <td>urbano</td>\n",
       "      <td>CHM</td>\n",
       "      <td>ANCASH</td>\n",
       "      <td>SANTA</td>\n",
       "      <td>CHIMBOTE</td>\n",
       "      <td>2024-02-10</td>\n",
       "      <td>2024-02-13</td>\n",
       "      <td>TRU</td>\n",
       "      <td>ENTREGADO</td>\n",
       "      <td>1</td>\n",
       "      <td>2024-02-15</td>\n",
       "      <td>ENTREGADO</td>\n",
       "      <td>LA ESPERANZA</td>\n",
       "      <td>TRUJILLO</td>\n",
       "      <td>LA LIBERTAD</td>\n",
       "      <td>Urbana</td>\n",
       "      <td>1.0</td>\n",
       "      <td>OFF TIME</td>\n",
       "      <td>1.0</td>\n",
       "    </tr>\n",
       "    <tr>\n",
       "      <th>4</th>\n",
       "      <td>5</td>\n",
       "      <td>urbano</td>\n",
       "      <td>HYO</td>\n",
       "      <td>JUNIN</td>\n",
       "      <td>HUANCAYO</td>\n",
       "      <td>HUANCAYO</td>\n",
       "      <td>2024-02-11</td>\n",
       "      <td>NaT</td>\n",
       "      <td>PCL</td>\n",
       "      <td>GE CANCELADA</td>\n",
       "      <td>0</td>\n",
       "      <td>NaT</td>\n",
       "      <td>NaN</td>\n",
       "      <td>CALLERIA</td>\n",
       "      <td>CORONEL PORTILLO</td>\n",
       "      <td>UCAYALI</td>\n",
       "      <td>Urbana</td>\n",
       "      <td>NaN</td>\n",
       "      <td>EN PROCESO ON TIME</td>\n",
       "      <td>NaN</td>\n",
       "    </tr>\n",
       "  </tbody>\n",
       "</table>\n",
       "</div>"
      ],
      "text/plain": [
       "   GUIA SHIPPER ORIGEN DPTO ORIGEN PROV ORIGEN DISTRITO ORIGEN     FECHA   \\\n",
       "0     1  urbano    HYO       JUNIN    HUANCAYO        HUANCAYO 2024-02-01   \n",
       "1     2  urbano    HYO       JUNIN    HUANCAYO        HUANCAYO 2024-02-06   \n",
       "2     3  urbano    PIU       PIURA       PIURA           PIURA 2024-02-07   \n",
       "3     4  urbano    CHM      ANCASH       SANTA        CHIMBOTE 2024-02-10   \n",
       "4     5  urbano    HYO       JUNIN    HUANCAYO        HUANCAYO 2024-02-11   \n",
       "\n",
       "  ARRIBO DESTINO DESTINO ESTADO ACTUAL  NRO VISITAS PRIMERA VISITA  \\\n",
       "0     2024-02-05     CNT     ENTREGADO            1     2024-02-05   \n",
       "1     2024-02-10     TRU     ENTREGADO            1     2024-02-10   \n",
       "2     2024-02-15     PIS     ENTREGADO            1     2024-02-16   \n",
       "3     2024-02-13     TRU     ENTREGADO            1     2024-02-15   \n",
       "4            NaT     PCL  GE CANCELADA            0            NaT   \n",
       "\n",
       "  RESULTADO VISITA 1               DISTRITO         PROVINCIA DEPARTAMENTO  \\\n",
       "0          ENTREGADO  SAN VICENTE DE CAÑETE            CAÑETE         LIMA   \n",
       "1          ENTREGADO           LA ESPERANZA          TRUJILLO  LA LIBERTAD   \n",
       "2          ENTREGADO                PARACAS             PISCO          ICA   \n",
       "3          ENTREGADO           LA ESPERANZA          TRUJILLO  LA LIBERTAD   \n",
       "4                NaN               CALLERIA  CORONEL PORTILLO      UCAYALI   \n",
       "\n",
       "    TIPO ZONA  PIEZAS         ANS ENTREGA  DIAS DEMORA  \n",
       "0      Urbana     1.0             ON TIME         -2.0  \n",
       "1      Urbana     1.0             ON TIME         -2.0  \n",
       "2  Periferico     1.0            OFF TIME          3.0  \n",
       "3      Urbana     1.0            OFF TIME          1.0  \n",
       "4      Urbana     NaN  EN PROCESO ON TIME          NaN  "
      ]
     },
     "execution_count": 3,
     "metadata": {},
     "output_type": "execute_result"
    }
   ],
   "source": [
    "data.head()"
   ]
  },
  {
   "cell_type": "code",
   "execution_count": 4,
   "id": "88d9ec0e-9ed0-452e-b458-63fc1d3a8176",
   "metadata": {},
   "outputs": [
    {
     "data": {
      "text/html": [
       "<div>\n",
       "<style scoped>\n",
       "    .dataframe tbody tr th:only-of-type {\n",
       "        vertical-align: middle;\n",
       "    }\n",
       "\n",
       "    .dataframe tbody tr th {\n",
       "        vertical-align: top;\n",
       "    }\n",
       "\n",
       "    .dataframe thead th {\n",
       "        text-align: right;\n",
       "    }\n",
       "</style>\n",
       "<table border=\"1\" class=\"dataframe\">\n",
       "  <thead>\n",
       "    <tr style=\"text-align: right;\">\n",
       "      <th></th>\n",
       "      <th>ESTADO ACTUAL</th>\n",
       "      <th>count</th>\n",
       "    </tr>\n",
       "  </thead>\n",
       "  <tbody>\n",
       "    <tr>\n",
       "      <th>0</th>\n",
       "      <td>ENVIO SINIESTRADO</td>\n",
       "      <td>1</td>\n",
       "    </tr>\n",
       "    <tr>\n",
       "      <th>1</th>\n",
       "      <td>DESPACHADO A DESTINO</td>\n",
       "      <td>4</td>\n",
       "    </tr>\n",
       "    <tr>\n",
       "      <th>2</th>\n",
       "      <td>VISITADO SIN ENTREGA</td>\n",
       "      <td>10</td>\n",
       "    </tr>\n",
       "    <tr>\n",
       "      <th>3</th>\n",
       "      <td>ARRIBADO EN DESTINO</td>\n",
       "      <td>16</td>\n",
       "    </tr>\n",
       "    <tr>\n",
       "      <th>4</th>\n",
       "      <td>SOLICITUD DE SERVICIO</td>\n",
       "      <td>22</td>\n",
       "    </tr>\n",
       "    <tr>\n",
       "      <th>5</th>\n",
       "      <td>SALIO A RUTA</td>\n",
       "      <td>32</td>\n",
       "    </tr>\n",
       "    <tr>\n",
       "      <th>6</th>\n",
       "      <td>GE CANCELADA</td>\n",
       "      <td>82</td>\n",
       "    </tr>\n",
       "    <tr>\n",
       "      <th>7</th>\n",
       "      <td>ENTREGADO</td>\n",
       "      <td>332</td>\n",
       "    </tr>\n",
       "  </tbody>\n",
       "</table>\n",
       "</div>"
      ],
      "text/plain": [
       "           ESTADO ACTUAL  count\n",
       "0      ENVIO SINIESTRADO      1\n",
       "1   DESPACHADO A DESTINO      4\n",
       "2   VISITADO SIN ENTREGA     10\n",
       "3    ARRIBADO EN DESTINO     16\n",
       "4  SOLICITUD DE SERVICIO     22\n",
       "5           SALIO A RUTA     32\n",
       "6           GE CANCELADA     82\n",
       "7              ENTREGADO    332"
      ]
     },
     "execution_count": 4,
     "metadata": {},
     "output_type": "execute_result"
    }
   ],
   "source": [
    "#sort_values(ascending = True).reset_index()\n",
    "estado = data['ESTADO ACTUAL'].value_counts().to_frame().sort_values(by= \"count\", ascending = True).reset_index()\n",
    "estado"
   ]
  },
  {
   "cell_type": "code",
   "execution_count": 5,
   "id": "e5434dae-20af-464e-abb4-1a7499877606",
   "metadata": {
    "scrolled": true
   },
   "outputs": [
    {
     "data": {
      "text/plain": [
       "<BarContainer object of 8 artists>"
      ]
     },
     "execution_count": 5,
     "metadata": {},
     "output_type": "execute_result"
    },
    {
     "data": {
      "image/png": "[encoded data removed]",
      "text/plain": [
       "<Figure size 640x480 with 1 Axes>"
      ]
     },
     "metadata": {},
     "output_type": "display_data"
    }
   ],
   "source": [
    "fig, ax = plt.subplots()\n",
    "labels = estado[\"ESTADO ACTUAL\"]\n",
    "datos = estado[\"count\"]\n",
    "\n",
    "ax.set_title(\"Cantidad de Pedidos por Estado\")\n",
    "ax.barh(labels, datos)"
   ]
  },
  {
   "cell_type": "code",
   "execution_count": 6,
   "id": "f4ea32e5-2e22-4e1d-89c2-4743eb54caa5",
   "metadata": {},
   "outputs": [
    {
     "data": {
      "text/html": [
       "<div>\n",
       "<style scoped>\n",
       "    .dataframe tbody tr th:only-of-type {\n",
       "        vertical-align: middle;\n",
       "    }\n",
       "\n",
       "    .dataframe tbody tr th {\n",
       "        vertical-align: top;\n",
       "    }\n",
       "\n",
       "    .dataframe thead th {\n",
       "        text-align: right;\n",
       "    }\n",
       "</style>\n",
       "<table border=\"1\" class=\"dataframe\">\n",
       "  <thead>\n",
       "    <tr style=\"text-align: right;\">\n",
       "      <th></th>\n",
       "      <th>ANS ENTREGA</th>\n",
       "      <th>count</th>\n",
       "    </tr>\n",
       "  </thead>\n",
       "  <tbody>\n",
       "    <tr>\n",
       "      <th>0</th>\n",
       "      <td>EN PROCESO OFF TIME</td>\n",
       "      <td>4</td>\n",
       "    </tr>\n",
       "    <tr>\n",
       "      <th>1</th>\n",
       "      <td>OFF TIME</td>\n",
       "      <td>46</td>\n",
       "    </tr>\n",
       "    <tr>\n",
       "      <th>2</th>\n",
       "      <td>EN PROCESO ON TIME</td>\n",
       "      <td>150</td>\n",
       "    </tr>\n",
       "    <tr>\n",
       "      <th>3</th>\n",
       "      <td>ON TIME</td>\n",
       "      <td>299</td>\n",
       "    </tr>\n",
       "  </tbody>\n",
       "</table>\n",
       "</div>"
      ],
      "text/plain": [
       "           ANS ENTREGA  count\n",
       "0  EN PROCESO OFF TIME      4\n",
       "1             OFF TIME     46\n",
       "2   EN PROCESO ON TIME    150\n",
       "3              ON TIME    299"
      ]
     },
     "execution_count": 6,
     "metadata": {},
     "output_type": "execute_result"
    }
   ],
   "source": [
    "ans_entrega = data['ANS ENTREGA'].value_counts().to_frame().sort_values(by= \"count\", ascending = True).reset_index()\n",
    "ans_entrega"
   ]
  },
  {
   "cell_type": "code",
   "execution_count": 7,
   "id": "3ce51ab1-2f83-4d75-83cc-3317e57790ed",
   "metadata": {},
   "outputs": [
    {
     "data": {
      "text/plain": [
       "<BarContainer object of 4 artists>"
      ]
     },
     "execution_count": 7,
     "metadata": {},
     "output_type": "execute_result"
    },
    {
     "data": {
      "image/png": "[encoded data removed]",
      "text/plain": [
       "<Figure size 640x480 with 1 Axes>"
      ]
     },
     "metadata": {},
     "output_type": "display_data"
    }
   ],
   "source": [
    "fig, ax = plt.subplots()\n",
    "labels = ans_entrega[\"ANS ENTREGA\"]\n",
    "datos = ans_entrega[\"count\"]\n",
    "\n",
    "ax.set_title(\"Cantidad de Pedidos por ANS ENTREGA\")\n",
    "ax.barh(labels, datos)"
   ]
  },
  {
   "cell_type": "code",
   "execution_count": null,
   "id": "9641597d-54bd-4b1e-a5d7-1496ae8f19c3",
   "metadata": {},
   "outputs": [],
   "source": []
  },
  {
   "cell_type": "code",
   "execution_count": 8,
   "id": "784ec1f9-b62b-440d-bf28-204377bac21a",
   "metadata": {},
   "outputs": [
    {
     "data": {
      "text/plain": [
       "<pandas.core.groupby.generic.DataFrameGroupBy object at 0x00000197488901D0>"
      ]
     },
     "execution_count": 8,
     "metadata": {},
     "output_type": "execute_result"
    }
   ],
   "source": [
    "estado_actual = data.groupby(\"ESTADO ACTUAL\")\n",
    "estado_actual"
   ]
  },
  {
   "cell_type": "code",
   "execution_count": 9,
   "id": "828a4fcf-649b-4f3f-a304-abe1a27c55fe",
   "metadata": {},
   "outputs": [
    {
     "data": {
      "text/html": [
       "<div>\n",
       "<style scoped>\n",
       "    .dataframe tbody tr th:only-of-type {\n",
       "        vertical-align: middle;\n",
       "    }\n",
       "\n",
       "    .dataframe tbody tr th {\n",
       "        vertical-align: top;\n",
       "    }\n",
       "\n",
       "    .dataframe thead th {\n",
       "        text-align: right;\n",
       "    }\n",
       "</style>\n",
       "<table border=\"1\" class=\"dataframe\">\n",
       "  <thead>\n",
       "    <tr style=\"text-align: right;\">\n",
       "      <th></th>\n",
       "      <th>GUIA</th>\n",
       "      <th>SHIPPER</th>\n",
       "      <th>ORIGEN</th>\n",
       "      <th>DPTO ORIGEN</th>\n",
       "      <th>PROV ORIGEN</th>\n",
       "      <th>DISTRITO ORIGEN</th>\n",
       "      <th>FECHA</th>\n",
       "      <th>ARRIBO DESTINO</th>\n",
       "      <th>DESTINO</th>\n",
       "      <th>ESTADO ACTUAL</th>\n",
       "      <th>NRO VISITAS</th>\n",
       "      <th>PRIMERA VISITA</th>\n",
       "      <th>RESULTADO VISITA 1</th>\n",
       "      <th>DISTRITO</th>\n",
       "      <th>PROVINCIA</th>\n",
       "      <th>DEPARTAMENTO</th>\n",
       "      <th>TIPO ZONA</th>\n",
       "      <th>PIEZAS</th>\n",
       "      <th>ANS ENTREGA</th>\n",
       "      <th>DIAS DEMORA</th>\n",
       "    </tr>\n",
       "  </thead>\n",
       "  <tbody>\n",
       "    <tr>\n",
       "      <th>0</th>\n",
       "      <td>1</td>\n",
       "      <td>urbano</td>\n",
       "      <td>HYO</td>\n",
       "      <td>JUNIN</td>\n",
       "      <td>HUANCAYO</td>\n",
       "      <td>HUANCAYO</td>\n",
       "      <td>2024-02-01</td>\n",
       "      <td>2024-02-05</td>\n",
       "      <td>CNT</td>\n",
       "      <td>ENTREGADO</td>\n",
       "      <td>1</td>\n",
       "      <td>2024-02-05</td>\n",
       "      <td>ENTREGADO</td>\n",
       "      <td>SAN VICENTE DE CAÑETE</td>\n",
       "      <td>CAÑETE</td>\n",
       "      <td>LIMA</td>\n",
       "      <td>Urbana</td>\n",
       "      <td>1.0</td>\n",
       "      <td>ON TIME</td>\n",
       "      <td>-2.0</td>\n",
       "    </tr>\n",
       "    <tr>\n",
       "      <th>1</th>\n",
       "      <td>2</td>\n",
       "      <td>urbano</td>\n",
       "      <td>HYO</td>\n",
       "      <td>JUNIN</td>\n",
       "      <td>HUANCAYO</td>\n",
       "      <td>HUANCAYO</td>\n",
       "      <td>2024-02-06</td>\n",
       "      <td>2024-02-10</td>\n",
       "      <td>TRU</td>\n",
       "      <td>ENTREGADO</td>\n",
       "      <td>1</td>\n",
       "      <td>2024-02-10</td>\n",
       "      <td>ENTREGADO</td>\n",
       "      <td>LA ESPERANZA</td>\n",
       "      <td>TRUJILLO</td>\n",
       "      <td>LA LIBERTAD</td>\n",
       "      <td>Urbana</td>\n",
       "      <td>1.0</td>\n",
       "      <td>ON TIME</td>\n",
       "      <td>-2.0</td>\n",
       "    </tr>\n",
       "    <tr>\n",
       "      <th>2</th>\n",
       "      <td>3</td>\n",
       "      <td>urbano</td>\n",
       "      <td>PIU</td>\n",
       "      <td>PIURA</td>\n",
       "      <td>PIURA</td>\n",
       "      <td>PIURA</td>\n",
       "      <td>2024-02-07</td>\n",
       "      <td>2024-02-15</td>\n",
       "      <td>PIS</td>\n",
       "      <td>ENTREGADO</td>\n",
       "      <td>1</td>\n",
       "      <td>2024-02-16</td>\n",
       "      <td>ENTREGADO</td>\n",
       "      <td>PARACAS</td>\n",
       "      <td>PISCO</td>\n",
       "      <td>ICA</td>\n",
       "      <td>Periferico</td>\n",
       "      <td>1.0</td>\n",
       "      <td>OFF TIME</td>\n",
       "      <td>3.0</td>\n",
       "    </tr>\n",
       "    <tr>\n",
       "      <th>3</th>\n",
       "      <td>4</td>\n",
       "      <td>urbano</td>\n",
       "      <td>CHM</td>\n",
       "      <td>ANCASH</td>\n",
       "      <td>SANTA</td>\n",
       "      <td>CHIMBOTE</td>\n",
       "      <td>2024-02-10</td>\n",
       "      <td>2024-02-13</td>\n",
       "      <td>TRU</td>\n",
       "      <td>ENTREGADO</td>\n",
       "      <td>1</td>\n",
       "      <td>2024-02-15</td>\n",
       "      <td>ENTREGADO</td>\n",
       "      <td>LA ESPERANZA</td>\n",
       "      <td>TRUJILLO</td>\n",
       "      <td>LA LIBERTAD</td>\n",
       "      <td>Urbana</td>\n",
       "      <td>1.0</td>\n",
       "      <td>OFF TIME</td>\n",
       "      <td>1.0</td>\n",
       "    </tr>\n",
       "    <tr>\n",
       "      <th>5</th>\n",
       "      <td>6</td>\n",
       "      <td>urbano</td>\n",
       "      <td>HYO</td>\n",
       "      <td>JUNIN</td>\n",
       "      <td>HUANCAYO</td>\n",
       "      <td>HUANCAYO</td>\n",
       "      <td>2024-02-11</td>\n",
       "      <td>2024-02-16</td>\n",
       "      <td>PCL</td>\n",
       "      <td>ENTREGADO</td>\n",
       "      <td>2</td>\n",
       "      <td>2024-02-20</td>\n",
       "      <td>ENTREGADO</td>\n",
       "      <td>CALLERIA</td>\n",
       "      <td>CORONEL PORTILLO</td>\n",
       "      <td>UCAYALI</td>\n",
       "      <td>Urbana</td>\n",
       "      <td>1.0</td>\n",
       "      <td>OFF TIME</td>\n",
       "      <td>2.0</td>\n",
       "    </tr>\n",
       "  </tbody>\n",
       "</table>\n",
       "</div>"
      ],
      "text/plain": [
       "   GUIA SHIPPER ORIGEN DPTO ORIGEN PROV ORIGEN DISTRITO ORIGEN     FECHA   \\\n",
       "0     1  urbano    HYO       JUNIN    HUANCAYO        HUANCAYO 2024-02-01   \n",
       "1     2  urbano    HYO       JUNIN    HUANCAYO        HUANCAYO 2024-02-06   \n",
       "2     3  urbano    PIU       PIURA       PIURA           PIURA 2024-02-07   \n",
       "3     4  urbano    CHM      ANCASH       SANTA        CHIMBOTE 2024-02-10   \n",
       "5     6  urbano    HYO       JUNIN    HUANCAYO        HUANCAYO 2024-02-11   \n",
       "\n",
       "  ARRIBO DESTINO DESTINO ESTADO ACTUAL  NRO VISITAS PRIMERA VISITA  \\\n",
       "0     2024-02-05     CNT     ENTREGADO            1     2024-02-05   \n",
       "1     2024-02-10     TRU     ENTREGADO            1     2024-02-10   \n",
       "2     2024-02-15     PIS     ENTREGADO            1     2024-02-16   \n",
       "3     2024-02-13     TRU     ENTREGADO            1     2024-02-15   \n",
       "5     2024-02-16     PCL     ENTREGADO            2     2024-02-20   \n",
       "\n",
       "  RESULTADO VISITA 1               DISTRITO         PROVINCIA DEPARTAMENTO  \\\n",
       "0          ENTREGADO  SAN VICENTE DE CAÑETE            CAÑETE         LIMA   \n",
       "1          ENTREGADO           LA ESPERANZA          TRUJILLO  LA LIBERTAD   \n",
       "2          ENTREGADO                PARACAS             PISCO          ICA   \n",
       "3          ENTREGADO           LA ESPERANZA          TRUJILLO  LA LIBERTAD   \n",
       "5          ENTREGADO               CALLERIA  CORONEL PORTILLO      UCAYALI   \n",
       "\n",
       "    TIPO ZONA  PIEZAS ANS ENTREGA  DIAS DEMORA  \n",
       "0      Urbana     1.0     ON TIME         -2.0  \n",
       "1      Urbana     1.0     ON TIME         -2.0  \n",
       "2  Periferico     1.0    OFF TIME          3.0  \n",
       "3      Urbana     1.0    OFF TIME          1.0  \n",
       "5      Urbana     1.0    OFF TIME          2.0  "
      ]
     },
     "execution_count": 9,
     "metadata": {},
     "output_type": "execute_result"
    }
   ],
   "source": [
    "entregado = estado_actual.get_group(\"ENTREGADO\")\n",
    "entregado.head()"
   ]
  },
  {
   "cell_type": "code",
   "execution_count": 10,
   "id": "f0bb81c5-7b00-4e67-9adc-b969b56709d7",
   "metadata": {},
   "outputs": [
    {
     "data": {
      "text/plain": [
       "ANS ENTREGA\n",
       "ON TIME     286\n",
       "OFF TIME     46\n",
       "Name: count, dtype: int64"
      ]
     },
     "execution_count": 10,
     "metadata": {},
     "output_type": "execute_result"
    }
   ],
   "source": [
    "#.to_frame().sort_values(by= \"count\", ascending = False).reset_index()\n",
    "entregados_por_ans_entrega = entregado['ANS ENTREGA'].value_counts()\n",
    "entregados_por_ans_entrega"
   ]
  },
  {
   "cell_type": "code",
   "execution_count": 11,
   "id": "02032c12-3b47-4d51-9ade-4cc4ff51b661",
   "metadata": {},
   "outputs": [
    {
     "data": {
      "text/plain": [
       "<Axes: title={'center': 'Cantidad de Pedidos entregados según ANS ENTREGA'}, xlabel='ANS ENTREGA'>"
      ]
     },
     "execution_count": 11,
     "metadata": {},
     "output_type": "execute_result"
    },
    {
     "data": {
      "image/png": "[encoded data removed]",
      "text/plain": [
       "<Figure size 640x480 with 1 Axes>"
      ]
     },
     "metadata": {},
     "output_type": "display_data"
    }
   ],
   "source": [
    "entregados_por_ans_entrega.plot(kind = 'bar', title='Cantidad de Pedidos entregados según ANS ENTREGA')"
   ]
  },
  {
   "cell_type": "code",
   "execution_count": 12,
   "id": "7227d772-71d5-4d5b-8981-509a39fc9888",
   "metadata": {},
   "outputs": [],
   "source": [
    "on_time = entregado[\"ANS ENTREGA\"] == \"ON TIME\"\n",
    "off_time = entregado[\"ANS ENTREGA\"] == \"OFF TIME\""
   ]
  },
  {
   "cell_type": "code",
   "execution_count": 13,
   "id": "b65ef927-d448-4a06-9ee4-167d9a6df48d",
   "metadata": {},
   "outputs": [],
   "source": [
    "entregado_on_time = entregado[on_time]\n",
    "entregado_off_time = entregado[off_time]"
   ]
  },
  {
   "cell_type": "code",
   "execution_count": 14,
   "id": "5bec8848-7195-44a5-a565-a2a14a3fcbc3",
   "metadata": {},
   "outputs": [
    {
     "data": {
      "text/plain": [
       "PROVINCIA\n",
       "LA CONVENCION            91\n",
       "SAN MARTIN               17\n",
       "CUTERVO                  12\n",
       "CANCHIS                  12\n",
       "CHACHAPOYAS               9\n",
       "CARAVELI                  9\n",
       "CUSCO                     8\n",
       "CAJABAMBA                 8\n",
       "ABANCAY                   8\n",
       "CHOTA                     7\n",
       "URUBAMBA                  7\n",
       "JAEN                      7\n",
       "ILO                       7\n",
       "MOYOBAMBA                 5\n",
       "UTCUBAMBA                 5\n",
       "ESPINAR                   5\n",
       "MAYNAS                    5\n",
       "ANDAHUAYLAS               5\n",
       "HUALGAYOC                 4\n",
       "RIOJA                     3\n",
       "MARISCAL NIETO            3\n",
       "SANCHEZ CARRION           3\n",
       "SAN IGNACIO               3\n",
       "PUNO                      2\n",
       "CORONEL PORTILLO          2\n",
       "TRUJILLO                  2\n",
       "HUANTA                    2\n",
       "CAMANA                    2\n",
       "CAÑETE                    2\n",
       "CONTUMAZA                 2\n",
       "SULLANA                   2\n",
       "MARISCAL CACERES          2\n",
       "CHUPACA                   1\n",
       "TACNA                     1\n",
       "SAN PABLO                 1\n",
       "TOCACHE                   1\n",
       "BAGUA                     1\n",
       "CONTRALMIRANTE VILLAR     1\n",
       "TAHUAMANU                 1\n",
       "PACHITEA                  1\n",
       "CARHUAZ                   1\n",
       "POMABAMBA                 1\n",
       "LIMA                      1\n",
       "CHICLAYO                  1\n",
       "ALTO AMAZONAS             1\n",
       "NAZCA                     1\n",
       "CALCA                     1\n",
       "CHANCHAMAYO               1\n",
       "LAMAS                     1\n",
       "PIURA                     1\n",
       "SANTA                     1\n",
       "MORROPON                  1\n",
       "SAN MARCOS                1\n",
       "CHEPEN                    1\n",
       "PACASMAYO                 1\n",
       "HUANUCO                   1\n",
       "ATALAYA                   1\n",
       "Name: count, dtype: int64"
      ]
     },
     "execution_count": 14,
     "metadata": {},
     "output_type": "execute_result"
    }
   ],
   "source": [
    "provincias_on_time = entregado_on_time[\"PROVINCIA\"].value_counts()\n",
    "provincias_on_time"
   ]
  },
  {
   "cell_type": "code",
   "execution_count": 17,
   "id": "7716d933-06a5-4758-ac62-d23326b78e1f",
   "metadata": {},
   "outputs": [
    {
     "data": {
      "text/html": [
       "<div>\n",
       "<style scoped>\n",
       "    .dataframe tbody tr th:only-of-type {\n",
       "        vertical-align: middle;\n",
       "    }\n",
       "\n",
       "    .dataframe tbody tr th {\n",
       "        vertical-align: top;\n",
       "    }\n",
       "\n",
       "    .dataframe thead th {\n",
       "        text-align: right;\n",
       "    }\n",
       "</style>\n",
       "<table border=\"1\" class=\"dataframe\">\n",
       "  <thead>\n",
       "    <tr style=\"text-align: right;\">\n",
       "      <th></th>\n",
       "      <th>PROVINCIA</th>\n",
       "      <th>count</th>\n",
       "    </tr>\n",
       "  </thead>\n",
       "  <tbody>\n",
       "    <tr>\n",
       "      <th>0</th>\n",
       "      <td>CHOTA</td>\n",
       "      <td>7</td>\n",
       "    </tr>\n",
       "    <tr>\n",
       "      <th>1</th>\n",
       "      <td>CUSCO</td>\n",
       "      <td>8</td>\n",
       "    </tr>\n",
       "    <tr>\n",
       "      <th>2</th>\n",
       "      <td>CAJABAMBA</td>\n",
       "      <td>8</td>\n",
       "    </tr>\n",
       "    <tr>\n",
       "      <th>3</th>\n",
       "      <td>ABANCAY</td>\n",
       "      <td>8</td>\n",
       "    </tr>\n",
       "    <tr>\n",
       "      <th>4</th>\n",
       "      <td>CHACHAPOYAS</td>\n",
       "      <td>9</td>\n",
       "    </tr>\n",
       "    <tr>\n",
       "      <th>5</th>\n",
       "      <td>CARAVELI</td>\n",
       "      <td>9</td>\n",
       "    </tr>\n",
       "    <tr>\n",
       "      <th>6</th>\n",
       "      <td>CUTERVO</td>\n",
       "      <td>12</td>\n",
       "    </tr>\n",
       "    <tr>\n",
       "      <th>7</th>\n",
       "      <td>CANCHIS</td>\n",
       "      <td>12</td>\n",
       "    </tr>\n",
       "    <tr>\n",
       "      <th>8</th>\n",
       "      <td>SAN MARTIN</td>\n",
       "      <td>17</td>\n",
       "    </tr>\n",
       "    <tr>\n",
       "      <th>9</th>\n",
       "      <td>LA CONVENCION</td>\n",
       "      <td>91</td>\n",
       "    </tr>\n",
       "  </tbody>\n",
       "</table>\n",
       "</div>"
      ],
      "text/plain": [
       "       PROVINCIA  count\n",
       "0          CHOTA      7\n",
       "1          CUSCO      8\n",
       "2      CAJABAMBA      8\n",
       "3        ABANCAY      8\n",
       "4    CHACHAPOYAS      9\n",
       "5       CARAVELI      9\n",
       "6        CUTERVO     12\n",
       "7        CANCHIS     12\n",
       "8     SAN MARTIN     17\n",
       "9  LA CONVENCION     91"
      ]
     },
     "execution_count": 17,
     "metadata": {},
     "output_type": "execute_result"
    }
   ],
   "source": [
    "top_10_provincias_on_time = entregado_on_time[\"PROVINCIA\"].value_counts().to_frame().head(10).sort_values(by= \"count\", ascending = True).reset_index()\n",
    "top_10_provincias_on_time"
   ]
  },
  {
   "cell_type": "code",
   "execution_count": 18,
   "id": "8fdd8d3b-562b-47b1-9df6-706d382c56fe",
   "metadata": {},
   "outputs": [
    {
     "data": {
      "text/plain": [
       "<BarContainer object of 10 artists>"
      ]
     },
     "execution_count": 18,
     "metadata": {},
     "output_type": "execute_result"
    },
    {
     "data": {
      "image/png": "[encoded data removed]",
      "text/plain": [
       "<Figure size 640x480 with 1 Axes>"
      ]
     },
     "metadata": {},
     "output_type": "display_data"
    }
   ],
   "source": [
    "fig, ax = plt.subplots()\n",
    "labels = top_10_provincias_on_time[\"PROVINCIA\"]\n",
    "datos = top_10_provincias_on_time[\"count\"]\n",
    "\n",
    "ax.set_title(\"TOP-10 de provincias con mas pedidos entregados a tiempo\")\n",
    "ax.barh(labels, datos)"
   ]
  },
  {
   "cell_type": "code",
   "execution_count": 16,
   "id": "0ad5d80b-741d-4672-a31c-eb661fe0c323",
   "metadata": {
    "scrolled": true
   },
   "outputs": [
    {
     "data": {
      "text/plain": [
       "PROVINCIA\n",
       "CUSCO               6\n",
       "CANCHIS             5\n",
       "TRUJILLO            4\n",
       "CHACHAPOYAS         3\n",
       "ISLAY               3\n",
       "MARISCAL NIETO      3\n",
       "ILO                 2\n",
       "TACNA               2\n",
       "PUNO                2\n",
       "PISCO               2\n",
       "CORONEL PORTILLO    2\n",
       "MAYNAS              1\n",
       "ESPINAR             1\n",
       "LA CONVENCION       1\n",
       "VIRU                1\n",
       "ALTO AMAZONAS       1\n",
       "CAYLLOMA            1\n",
       "RIOJA               1\n",
       "TAMBOPATA           1\n",
       "SATIPO              1\n",
       "JAEN                1\n",
       "SANTA               1\n",
       "CALCA               1\n",
       "Name: count, dtype: int64"
      ]
     },
     "execution_count": 16,
     "metadata": {},
     "output_type": "execute_result"
    }
   ],
   "source": [
    "provincias_off_time = entregado_off_time[\"PROVINCIA\"].value_counts()\n",
    "provincias_off_time"
   ]
  },
  {
   "cell_type": "code",
   "execution_count": 19,
   "id": "473357f3-4074-47e0-b673-2502ffcef1f3",
   "metadata": {},
   "outputs": [
    {
     "data": {
      "text/html": [
       "<div>\n",
       "<style scoped>\n",
       "    .dataframe tbody tr th:only-of-type {\n",
       "        vertical-align: middle;\n",
       "    }\n",
       "\n",
       "    .dataframe tbody tr th {\n",
       "        vertical-align: top;\n",
       "    }\n",
       "\n",
       "    .dataframe thead th {\n",
       "        text-align: right;\n",
       "    }\n",
       "</style>\n",
       "<table border=\"1\" class=\"dataframe\">\n",
       "  <thead>\n",
       "    <tr style=\"text-align: right;\">\n",
       "      <th></th>\n",
       "      <th>PROVINCIA</th>\n",
       "      <th>count</th>\n",
       "    </tr>\n",
       "  </thead>\n",
       "  <tbody>\n",
       "    <tr>\n",
       "      <th>0</th>\n",
       "      <td>ILO</td>\n",
       "      <td>2</td>\n",
       "    </tr>\n",
       "    <tr>\n",
       "      <th>1</th>\n",
       "      <td>TACNA</td>\n",
       "      <td>2</td>\n",
       "    </tr>\n",
       "    <tr>\n",
       "      <th>2</th>\n",
       "      <td>PUNO</td>\n",
       "      <td>2</td>\n",
       "    </tr>\n",
       "    <tr>\n",
       "      <th>3</th>\n",
       "      <td>PISCO</td>\n",
       "      <td>2</td>\n",
       "    </tr>\n",
       "    <tr>\n",
       "      <th>4</th>\n",
       "      <td>CHACHAPOYAS</td>\n",
       "      <td>3</td>\n",
       "    </tr>\n",
       "    <tr>\n",
       "      <th>5</th>\n",
       "      <td>ISLAY</td>\n",
       "      <td>3</td>\n",
       "    </tr>\n",
       "    <tr>\n",
       "      <th>6</th>\n",
       "      <td>MARISCAL NIETO</td>\n",
       "      <td>3</td>\n",
       "    </tr>\n",
       "    <tr>\n",
       "      <th>7</th>\n",
       "      <td>TRUJILLO</td>\n",
       "      <td>4</td>\n",
       "    </tr>\n",
       "    <tr>\n",
       "      <th>8</th>\n",
       "      <td>CANCHIS</td>\n",
       "      <td>5</td>\n",
       "    </tr>\n",
       "    <tr>\n",
       "      <th>9</th>\n",
       "      <td>CUSCO</td>\n",
       "      <td>6</td>\n",
       "    </tr>\n",
       "  </tbody>\n",
       "</table>\n",
       "</div>"
      ],
      "text/plain": [
       "        PROVINCIA  count\n",
       "0             ILO      2\n",
       "1           TACNA      2\n",
       "2            PUNO      2\n",
       "3           PISCO      2\n",
       "4     CHACHAPOYAS      3\n",
       "5           ISLAY      3\n",
       "6  MARISCAL NIETO      3\n",
       "7        TRUJILLO      4\n",
       "8         CANCHIS      5\n",
       "9           CUSCO      6"
      ]
     },
     "execution_count": 19,
     "metadata": {},
     "output_type": "execute_result"
    }
   ],
   "source": [
    "top_10_provincias_off_time = entregado_off_time[\"PROVINCIA\"].value_counts().to_frame().head(10).sort_values(by= \"count\", ascending = True).reset_index()\n",
    "top_10_provincias_off_time"
   ]
  },
  {
   "cell_type": "code",
   "execution_count": 20,
   "id": "8c53166c-ec9f-4403-920e-6bddbd939ed2",
   "metadata": {},
   "outputs": [
    {
     "data": {
      "text/plain": [
       "<BarContainer object of 10 artists>"
      ]
     },
     "execution_count": 20,
     "metadata": {},
     "output_type": "execute_result"
    },
    {
     "data": {
      "image/png": "[encoded data removed]",
      "text/plain": [
       "<Figure size 640x480 with 1 Axes>"
      ]
     },
     "metadata": {},
     "output_type": "display_data"
    }
   ],
   "source": [
    "fig, ax = plt.subplots()\n",
    "labels = top_10_provincias_off_time[\"PROVINCIA\"]\n",
    "datos = top_10_provincias_off_time[\"count\"]\n",
    "\n",
    "ax.set_title(\"TOP-10 de provincias con mas pedidos entregados fuera de tiempo\")\n",
    "ax.barh(labels, datos)"
   ]
  },
  {
   "cell_type": "code",
   "execution_count": 24,
   "id": "fc866d6c-7947-4660-a868-1322592e8da7",
   "metadata": {},
   "outputs": [
    {
     "data": {
      "text/html": [
       "<div>\n",
       "<style scoped>\n",
       "    .dataframe tbody tr th:only-of-type {\n",
       "        vertical-align: middle;\n",
       "    }\n",
       "\n",
       "    .dataframe tbody tr th {\n",
       "        vertical-align: top;\n",
       "    }\n",
       "\n",
       "    .dataframe thead th {\n",
       "        text-align: right;\n",
       "    }\n",
       "</style>\n",
       "<table border=\"1\" class=\"dataframe\">\n",
       "  <thead>\n",
       "    <tr style=\"text-align: right;\">\n",
       "      <th></th>\n",
       "      <th>TIPO ZONA</th>\n",
       "      <th>count</th>\n",
       "    </tr>\n",
       "  </thead>\n",
       "  <tbody>\n",
       "    <tr>\n",
       "      <th>0</th>\n",
       "      <td>Periferico</td>\n",
       "      <td>19</td>\n",
       "    </tr>\n",
       "    <tr>\n",
       "      <th>1</th>\n",
       "      <td>Urbana</td>\n",
       "      <td>49</td>\n",
       "    </tr>\n",
       "    <tr>\n",
       "      <th>2</th>\n",
       "      <td>Rural</td>\n",
       "      <td>218</td>\n",
       "    </tr>\n",
       "  </tbody>\n",
       "</table>\n",
       "</div>"
      ],
      "text/plain": [
       "    TIPO ZONA  count\n",
       "0  Periferico     19\n",
       "1      Urbana     49\n",
       "2       Rural    218"
      ]
     },
     "execution_count": 24,
     "metadata": {},
     "output_type": "execute_result"
    }
   ],
   "source": [
    "zona_on_time = entregado_on_time[\"TIPO ZONA\"].value_counts().to_frame().sort_values(by= \"count\", ascending = True).reset_index()\n",
    "zona_on_time"
   ]
  },
  {
   "cell_type": "code",
   "execution_count": 25,
   "id": "c23baa10-3aad-4462-87f0-8361bae3f1c3",
   "metadata": {},
   "outputs": [
    {
     "data": {
      "text/plain": [
       "<BarContainer object of 3 artists>"
      ]
     },
     "execution_count": 25,
     "metadata": {},
     "output_type": "execute_result"
    },
    {
     "data": {
      "image/png": "[encoded data removed]",
      "text/plain": [
       "<Figure size 640x480 with 1 Axes>"
      ]
     },
     "metadata": {},
     "output_type": "display_data"
    }
   ],
   "source": [
    "fig, ax = plt.subplots()\n",
    "labels = zona_on_time[\"TIPO ZONA\"]\n",
    "datos = zona_on_time[\"count\"]\n",
    "\n",
    "ax.set_title(\"Pedidos entregados a tiempo por Tipo de Zona\")\n",
    "ax.barh(labels, datos)"
   ]
  },
  {
   "cell_type": "code",
   "execution_count": 26,
   "id": "0d5034cc-df82-4a76-aefa-7d71fd160386",
   "metadata": {},
   "outputs": [
    {
     "data": {
      "text/html": [
       "<div>\n",
       "<style scoped>\n",
       "    .dataframe tbody tr th:only-of-type {\n",
       "        vertical-align: middle;\n",
       "    }\n",
       "\n",
       "    .dataframe tbody tr th {\n",
       "        vertical-align: top;\n",
       "    }\n",
       "\n",
       "    .dataframe thead th {\n",
       "        text-align: right;\n",
       "    }\n",
       "</style>\n",
       "<table border=\"1\" class=\"dataframe\">\n",
       "  <thead>\n",
       "    <tr style=\"text-align: right;\">\n",
       "      <th></th>\n",
       "      <th>TIPO ZONA</th>\n",
       "      <th>count</th>\n",
       "    </tr>\n",
       "  </thead>\n",
       "  <tbody>\n",
       "    <tr>\n",
       "      <th>0</th>\n",
       "      <td>Periferico</td>\n",
       "      <td>10</td>\n",
       "    </tr>\n",
       "    <tr>\n",
       "      <th>1</th>\n",
       "      <td>Rural</td>\n",
       "      <td>16</td>\n",
       "    </tr>\n",
       "    <tr>\n",
       "      <th>2</th>\n",
       "      <td>Urbana</td>\n",
       "      <td>20</td>\n",
       "    </tr>\n",
       "  </tbody>\n",
       "</table>\n",
       "</div>"
      ],
      "text/plain": [
       "    TIPO ZONA  count\n",
       "0  Periferico     10\n",
       "1       Rural     16\n",
       "2      Urbana     20"
      ]
     },
     "execution_count": 26,
     "metadata": {},
     "output_type": "execute_result"
    }
   ],
   "source": [
    "zona_off_time = entregado_off_time[\"TIPO ZONA\"].value_counts().to_frame().sort_values(by= \"count\", ascending = True).reset_index()\n",
    "zona_off_time"
   ]
  },
  {
   "cell_type": "code",
   "execution_count": 28,
   "id": "d3ada55d-3412-48f0-a246-10f1749cb288",
   "metadata": {},
   "outputs": [
    {
     "data": {
      "text/plain": [
       "<BarContainer object of 3 artists>"
      ]
     },
     "execution_count": 28,
     "metadata": {},
     "output_type": "execute_result"
    },
    {
     "data": {
      "image/png": "[encoded data removed]",
      "text/plain": [
       "<Figure size 640x480 with 1 Axes>"
      ]
     },
     "metadata": {},
     "output_type": "display_data"
    }
   ],
   "source": [
    "fig, ax = plt.subplots()\n",
    "labels = zona_off_time[\"TIPO ZONA\"]\n",
    "datos = zona_off_time[\"count\"]\n",
    "\n",
    "ax.set_title(\"Pedidos entregados fuera de tiempo por Tipo de Zona\")\n",
    "ax.barh(labels, datos)"
   ]
  },
  {
   "cell_type": "code",
   "execution_count": null,
   "id": "5057084f-916a-49c4-a30b-19df68a639ed",
   "metadata": {},
   "outputs": [],
   "source": []
  },
  {
   "cell_type": "code",
   "execution_count": 15,
   "id": "a3c89c20-63cf-4329-951c-484390542ea9",
   "metadata": {},
   "outputs": [],
   "source": [
    "#Top 10 de provincias con mas pedidos entregados a tiempo\n",
    "#Top 10 de departamentos con mas pedidos entregados a tiempo\n",
    "#Top 10 de provincias con mas pedidos entregrado fuera de tiempo\n",
    "#Top 10 de departamentos con mas pedidos entregrado fuera de tiempo"
   ]
  },
  {
   "cell_type": "code",
   "execution_count": null,
   "id": "9df4ab68-41c0-497c-8f4b-e0215dfc95e1",
   "metadata": {},
   "outputs": [],
   "source": []
  }
 ],
 "metadata": {
  "kernelspec": {
   "display_name": "Python 3 (ipykernel)",
   "language": "python",
   "name": "python3"
  },
  "language_info": {
   "codemirror_mode": {
    "name": "ipython",
    "version": 3
   },
   "file_extension": ".py",
   "mimetype": "text/x-python",
   "name": "python",
   "nbconvert_exporter": "python",
   "pygments_lexer": "ipython3",
   "version": "3.12.1"
  }
 },
 "nbformat": 4,
 "nbformat_minor": 5
}
